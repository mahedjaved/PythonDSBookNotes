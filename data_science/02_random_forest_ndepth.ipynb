{
 "cells": [
  {
   "cell_type": "markdown",
   "metadata": {},
   "source": [
    "Great website for Textures :: https://pixela.ai/"
   ]
  },
  {
   "cell_type": "markdown",
   "metadata": {},
   "source": [
    "# Random Forest in Depth - Chapter 02"
   ]
  },
  {
   "cell_type": "markdown",
   "metadata": {},
   "source": [
    "## 0. Learning Objectives"
   ]
  },
  {
   "cell_type": "markdown",
   "metadata": {},
   "source": [
    "* Diving further into Random forests\n",
    "* For some datasets they work really well,  \n",
    "* What do we do when they don't work\n",
    "* What are the pros and cons of Random Forests\n",
    "* What parameters can be tuned \n",
    "* Look at how we interpret the results of random forest"
   ]
  },
  {
   "cell_type": "markdown",
   "metadata": {},
   "source": [
    "* FastAI library is highly **opinionated**\n",
    "* Meaning, majority of the code is **wrapped** around existing libraries\n",
    "* For example, for **structured** data there is already great code from the **scikit-learn** library\n",
    "* This is wrapped under fast.ai library --> with most emphasis on have functions that reproduce **SOTA results**"
   ]
  },
  {
   "cell_type": "markdown",
   "metadata": {},
   "source": [
    "## 1. Import Dataset"
   ]
  },
  {
   "cell_type": "code",
   "execution_count": 1,
   "metadata": {},
   "outputs": [],
   "source": [
    "%load_ext autoreload\n",
    "%autoreload 2\n",
    "%matplotlib inline"
   ]
  },
  {
   "cell_type": "code",
   "execution_count": 2,
   "metadata": {},
   "outputs": [],
   "source": [
    "import os\n",
    "currDir = os.getcwd()\n",
    "os.chdir(\"../fastai/\")\n",
    "from structured import *       \n",
    "from imports import *\n",
    "os.chdir(currDir)\n",
    "# ____________________________________________________________ #\n",
    "from pandas_summary import DataFrameSummary\n",
    "from IPython.display import display\n",
    "\n",
    "from sklearn.ensemble import RandomForestRegressor\n",
    "from sklearn import metrics\n",
    "# ____________________________________________________________ #\n",
    "import math"
   ]
  },
  {
   "cell_type": "markdown",
   "metadata": {},
   "source": [
    "## 2. Data Pre-Processing"
   ]
  },
  {
   "cell_type": "code",
   "execution_count": 3,
   "metadata": {},
   "outputs": [],
   "source": [
    "PATH2DATA = \"../datasets/kaggle/bluebook_bulldozers/\"\n",
    "# !dir PATH2DATA  # view what is in the data directory"
   ]
  },
  {
   "cell_type": "markdown",
   "metadata": {},
   "source": [
    "---"
   ]
  },
  {
   "cell_type": "markdown",
   "metadata": {},
   "source": [
    "**STEP 1)**\n",
    "\n",
    "* Read the data and say which columns are dates\n",
    "* **Simlink** is used with the `ln -s` command\n",
    "* You can also use `sys.append` but not recommended"
   ]
  },
  {
   "cell_type": "code",
   "execution_count": 4,
   "metadata": {},
   "outputs": [],
   "source": [
    "df_raw = pd.read_csv(f'{PATH2DATA}Train.csv',\n",
    "                     low_memory=False, parse_dates=[\"saledate\"])\n"
   ]
  },
  {
   "cell_type": "markdown",
   "metadata": {},
   "source": [
    "---"
   ]
  },
  {
   "cell_type": "markdown",
   "metadata": {},
   "source": [
    "**STEP 2)**\n",
    "\n",
    "* Now a better way of displaying the results \n",
    "* With the addittional property of setting the nos. of columns and rows to display"
   ]
  },
  {
   "cell_type": "code",
   "execution_count": 5,
   "metadata": {},
   "outputs": [],
   "source": [
    "def display_all(df):\n",
    "    with pd.option_context(\"display.max_rows\", 1000):\n",
    "        with pd.option_context(\"display.max_columns\", 1000):\n",
    "            display(df)"
   ]
  },
  {
   "cell_type": "markdown",
   "metadata": {},
   "source": [
    "---"
   ]
  },
  {
   "cell_type": "markdown",
   "metadata": {},
   "source": [
    "**STEP 3)**\n",
    "\n",
    "* THen showing how only few of these last results can be displayed usign `tail()` method\n",
    "* But this data has too many rows, so it will be much better to show it columns x row wise using `transpose()` method"
   ]
  },
  {
   "cell_type": "code",
   "execution_count": 6,
   "metadata": {},
   "outputs": [
    {
     "data": {
      "text/html": [
       "<div>\n",
       "<style scoped>\n",
       "    .dataframe tbody tr th:only-of-type {\n",
       "        vertical-align: middle;\n",
       "    }\n",
       "\n",
       "    .dataframe tbody tr th {\n",
       "        vertical-align: top;\n",
       "    }\n",
       "\n",
       "    .dataframe thead th {\n",
       "        text-align: right;\n",
       "    }\n",
       "</style>\n",
       "<table border=\"1\" class=\"dataframe\">\n",
       "  <thead>\n",
       "    <tr style=\"text-align: right;\">\n",
       "      <th></th>\n",
       "      <th>401120</th>\n",
       "      <th>401121</th>\n",
       "      <th>401122</th>\n",
       "      <th>401123</th>\n",
       "      <th>401124</th>\n",
       "    </tr>\n",
       "  </thead>\n",
       "  <tbody>\n",
       "    <tr>\n",
       "      <th>SalesID</th>\n",
       "      <td>6333336</td>\n",
       "      <td>6333337</td>\n",
       "      <td>6333338</td>\n",
       "      <td>6333341</td>\n",
       "      <td>6333342</td>\n",
       "    </tr>\n",
       "    <tr>\n",
       "      <th>SalePrice</th>\n",
       "      <td>10500</td>\n",
       "      <td>11000</td>\n",
       "      <td>11500</td>\n",
       "      <td>9000</td>\n",
       "      <td>7750</td>\n",
       "    </tr>\n",
       "    <tr>\n",
       "      <th>MachineID</th>\n",
       "      <td>1840702</td>\n",
       "      <td>1830472</td>\n",
       "      <td>1887659</td>\n",
       "      <td>1903570</td>\n",
       "      <td>1926965</td>\n",
       "    </tr>\n",
       "    <tr>\n",
       "      <th>ModelID</th>\n",
       "      <td>21439</td>\n",
       "      <td>21439</td>\n",
       "      <td>21439</td>\n",
       "      <td>21435</td>\n",
       "      <td>21435</td>\n",
       "    </tr>\n",
       "    <tr>\n",
       "      <th>datasource</th>\n",
       "      <td>149</td>\n",
       "      <td>149</td>\n",
       "      <td>149</td>\n",
       "      <td>149</td>\n",
       "      <td>149</td>\n",
       "    </tr>\n",
       "    <tr>\n",
       "      <th>auctioneerID</th>\n",
       "      <td>1.0</td>\n",
       "      <td>1.0</td>\n",
       "      <td>1.0</td>\n",
       "      <td>2.0</td>\n",
       "      <td>2.0</td>\n",
       "    </tr>\n",
       "    <tr>\n",
       "      <th>YearMade</th>\n",
       "      <td>2005</td>\n",
       "      <td>2005</td>\n",
       "      <td>2005</td>\n",
       "      <td>2005</td>\n",
       "      <td>2005</td>\n",
       "    </tr>\n",
       "    <tr>\n",
       "      <th>MachineHoursCurrentMeter</th>\n",
       "      <td>NaN</td>\n",
       "      <td>NaN</td>\n",
       "      <td>NaN</td>\n",
       "      <td>NaN</td>\n",
       "      <td>NaN</td>\n",
       "    </tr>\n",
       "    <tr>\n",
       "      <th>UsageBand</th>\n",
       "      <td>NaN</td>\n",
       "      <td>NaN</td>\n",
       "      <td>NaN</td>\n",
       "      <td>NaN</td>\n",
       "      <td>NaN</td>\n",
       "    </tr>\n",
       "    <tr>\n",
       "      <th>saledate</th>\n",
       "      <td>2011-11-02 00:00:00</td>\n",
       "      <td>2011-11-02 00:00:00</td>\n",
       "      <td>2011-11-02 00:00:00</td>\n",
       "      <td>2011-10-25 00:00:00</td>\n",
       "      <td>2011-10-25 00:00:00</td>\n",
       "    </tr>\n",
       "    <tr>\n",
       "      <th>fiModelDesc</th>\n",
       "      <td>35NX2</td>\n",
       "      <td>35NX2</td>\n",
       "      <td>35NX2</td>\n",
       "      <td>30NX</td>\n",
       "      <td>30NX</td>\n",
       "    </tr>\n",
       "    <tr>\n",
       "      <th>fiBaseModel</th>\n",
       "      <td>35</td>\n",
       "      <td>35</td>\n",
       "      <td>35</td>\n",
       "      <td>30</td>\n",
       "      <td>30</td>\n",
       "    </tr>\n",
       "    <tr>\n",
       "      <th>fiSecondaryDesc</th>\n",
       "      <td>NX</td>\n",
       "      <td>NX</td>\n",
       "      <td>NX</td>\n",
       "      <td>NX</td>\n",
       "      <td>NX</td>\n",
       "    </tr>\n",
       "    <tr>\n",
       "      <th>fiModelSeries</th>\n",
       "      <td>2</td>\n",
       "      <td>2</td>\n",
       "      <td>2</td>\n",
       "      <td>NaN</td>\n",
       "      <td>NaN</td>\n",
       "    </tr>\n",
       "    <tr>\n",
       "      <th>fiModelDescriptor</th>\n",
       "      <td>NaN</td>\n",
       "      <td>NaN</td>\n",
       "      <td>NaN</td>\n",
       "      <td>NaN</td>\n",
       "      <td>NaN</td>\n",
       "    </tr>\n",
       "    <tr>\n",
       "      <th>ProductSize</th>\n",
       "      <td>Mini</td>\n",
       "      <td>Mini</td>\n",
       "      <td>Mini</td>\n",
       "      <td>Mini</td>\n",
       "      <td>Mini</td>\n",
       "    </tr>\n",
       "    <tr>\n",
       "      <th>fiProductClassDesc</th>\n",
       "      <td>Hydraulic Excavator, Track - 3.0 to 4.0 Metric...</td>\n",
       "      <td>Hydraulic Excavator, Track - 3.0 to 4.0 Metric...</td>\n",
       "      <td>Hydraulic Excavator, Track - 3.0 to 4.0 Metric...</td>\n",
       "      <td>Hydraulic Excavator, Track - 2.0 to 3.0 Metric...</td>\n",
       "      <td>Hydraulic Excavator, Track - 2.0 to 3.0 Metric...</td>\n",
       "    </tr>\n",
       "    <tr>\n",
       "      <th>state</th>\n",
       "      <td>Maryland</td>\n",
       "      <td>Maryland</td>\n",
       "      <td>Maryland</td>\n",
       "      <td>Florida</td>\n",
       "      <td>Florida</td>\n",
       "    </tr>\n",
       "    <tr>\n",
       "      <th>ProductGroup</th>\n",
       "      <td>TEX</td>\n",
       "      <td>TEX</td>\n",
       "      <td>TEX</td>\n",
       "      <td>TEX</td>\n",
       "      <td>TEX</td>\n",
       "    </tr>\n",
       "    <tr>\n",
       "      <th>ProductGroupDesc</th>\n",
       "      <td>Track Excavators</td>\n",
       "      <td>Track Excavators</td>\n",
       "      <td>Track Excavators</td>\n",
       "      <td>Track Excavators</td>\n",
       "      <td>Track Excavators</td>\n",
       "    </tr>\n",
       "    <tr>\n",
       "      <th>Drive_System</th>\n",
       "      <td>NaN</td>\n",
       "      <td>NaN</td>\n",
       "      <td>NaN</td>\n",
       "      <td>NaN</td>\n",
       "      <td>NaN</td>\n",
       "    </tr>\n",
       "    <tr>\n",
       "      <th>Enclosure</th>\n",
       "      <td>EROPS</td>\n",
       "      <td>EROPS</td>\n",
       "      <td>EROPS</td>\n",
       "      <td>EROPS</td>\n",
       "      <td>EROPS</td>\n",
       "    </tr>\n",
       "    <tr>\n",
       "      <th>Forks</th>\n",
       "      <td>NaN</td>\n",
       "      <td>NaN</td>\n",
       "      <td>NaN</td>\n",
       "      <td>NaN</td>\n",
       "      <td>NaN</td>\n",
       "    </tr>\n",
       "    <tr>\n",
       "      <th>Pad_Type</th>\n",
       "      <td>NaN</td>\n",
       "      <td>NaN</td>\n",
       "      <td>NaN</td>\n",
       "      <td>NaN</td>\n",
       "      <td>NaN</td>\n",
       "    </tr>\n",
       "    <tr>\n",
       "      <th>Ride_Control</th>\n",
       "      <td>NaN</td>\n",
       "      <td>NaN</td>\n",
       "      <td>NaN</td>\n",
       "      <td>NaN</td>\n",
       "      <td>NaN</td>\n",
       "    </tr>\n",
       "    <tr>\n",
       "      <th>Stick</th>\n",
       "      <td>NaN</td>\n",
       "      <td>NaN</td>\n",
       "      <td>NaN</td>\n",
       "      <td>NaN</td>\n",
       "      <td>NaN</td>\n",
       "    </tr>\n",
       "    <tr>\n",
       "      <th>Transmission</th>\n",
       "      <td>NaN</td>\n",
       "      <td>NaN</td>\n",
       "      <td>NaN</td>\n",
       "      <td>NaN</td>\n",
       "      <td>NaN</td>\n",
       "    </tr>\n",
       "    <tr>\n",
       "      <th>Turbocharged</th>\n",
       "      <td>NaN</td>\n",
       "      <td>NaN</td>\n",
       "      <td>NaN</td>\n",
       "      <td>NaN</td>\n",
       "      <td>NaN</td>\n",
       "    </tr>\n",
       "    <tr>\n",
       "      <th>Blade_Extension</th>\n",
       "      <td>NaN</td>\n",
       "      <td>NaN</td>\n",
       "      <td>NaN</td>\n",
       "      <td>NaN</td>\n",
       "      <td>NaN</td>\n",
       "    </tr>\n",
       "    <tr>\n",
       "      <th>Blade_Width</th>\n",
       "      <td>NaN</td>\n",
       "      <td>NaN</td>\n",
       "      <td>NaN</td>\n",
       "      <td>NaN</td>\n",
       "      <td>NaN</td>\n",
       "    </tr>\n",
       "    <tr>\n",
       "      <th>Enclosure_Type</th>\n",
       "      <td>NaN</td>\n",
       "      <td>NaN</td>\n",
       "      <td>NaN</td>\n",
       "      <td>NaN</td>\n",
       "      <td>NaN</td>\n",
       "    </tr>\n",
       "    <tr>\n",
       "      <th>Engine_Horsepower</th>\n",
       "      <td>NaN</td>\n",
       "      <td>NaN</td>\n",
       "      <td>NaN</td>\n",
       "      <td>NaN</td>\n",
       "      <td>NaN</td>\n",
       "    </tr>\n",
       "    <tr>\n",
       "      <th>Hydraulics</th>\n",
       "      <td>Auxiliary</td>\n",
       "      <td>Standard</td>\n",
       "      <td>Auxiliary</td>\n",
       "      <td>Standard</td>\n",
       "      <td>Standard</td>\n",
       "    </tr>\n",
       "    <tr>\n",
       "      <th>Pushblock</th>\n",
       "      <td>NaN</td>\n",
       "      <td>NaN</td>\n",
       "      <td>NaN</td>\n",
       "      <td>NaN</td>\n",
       "      <td>NaN</td>\n",
       "    </tr>\n",
       "    <tr>\n",
       "      <th>Ripper</th>\n",
       "      <td>NaN</td>\n",
       "      <td>NaN</td>\n",
       "      <td>NaN</td>\n",
       "      <td>NaN</td>\n",
       "      <td>NaN</td>\n",
       "    </tr>\n",
       "    <tr>\n",
       "      <th>Scarifier</th>\n",
       "      <td>NaN</td>\n",
       "      <td>NaN</td>\n",
       "      <td>NaN</td>\n",
       "      <td>NaN</td>\n",
       "      <td>NaN</td>\n",
       "    </tr>\n",
       "    <tr>\n",
       "      <th>Tip_Control</th>\n",
       "      <td>NaN</td>\n",
       "      <td>NaN</td>\n",
       "      <td>NaN</td>\n",
       "      <td>NaN</td>\n",
       "      <td>NaN</td>\n",
       "    </tr>\n",
       "    <tr>\n",
       "      <th>Tire_Size</th>\n",
       "      <td>NaN</td>\n",
       "      <td>NaN</td>\n",
       "      <td>NaN</td>\n",
       "      <td>NaN</td>\n",
       "      <td>NaN</td>\n",
       "    </tr>\n",
       "    <tr>\n",
       "      <th>Coupler</th>\n",
       "      <td>None or Unspecified</td>\n",
       "      <td>None or Unspecified</td>\n",
       "      <td>None or Unspecified</td>\n",
       "      <td>None or Unspecified</td>\n",
       "      <td>None or Unspecified</td>\n",
       "    </tr>\n",
       "    <tr>\n",
       "      <th>Coupler_System</th>\n",
       "      <td>NaN</td>\n",
       "      <td>NaN</td>\n",
       "      <td>NaN</td>\n",
       "      <td>NaN</td>\n",
       "      <td>NaN</td>\n",
       "    </tr>\n",
       "    <tr>\n",
       "      <th>Grouser_Tracks</th>\n",
       "      <td>NaN</td>\n",
       "      <td>NaN</td>\n",
       "      <td>NaN</td>\n",
       "      <td>NaN</td>\n",
       "      <td>NaN</td>\n",
       "    </tr>\n",
       "    <tr>\n",
       "      <th>Hydraulics_Flow</th>\n",
       "      <td>NaN</td>\n",
       "      <td>NaN</td>\n",
       "      <td>NaN</td>\n",
       "      <td>NaN</td>\n",
       "      <td>NaN</td>\n",
       "    </tr>\n",
       "    <tr>\n",
       "      <th>Track_Type</th>\n",
       "      <td>Steel</td>\n",
       "      <td>Steel</td>\n",
       "      <td>Steel</td>\n",
       "      <td>Steel</td>\n",
       "      <td>Steel</td>\n",
       "    </tr>\n",
       "    <tr>\n",
       "      <th>Undercarriage_Pad_Width</th>\n",
       "      <td>None or Unspecified</td>\n",
       "      <td>None or Unspecified</td>\n",
       "      <td>None or Unspecified</td>\n",
       "      <td>None or Unspecified</td>\n",
       "      <td>None or Unspecified</td>\n",
       "    </tr>\n",
       "    <tr>\n",
       "      <th>Stick_Length</th>\n",
       "      <td>None or Unspecified</td>\n",
       "      <td>None or Unspecified</td>\n",
       "      <td>None or Unspecified</td>\n",
       "      <td>None or Unspecified</td>\n",
       "      <td>None or Unspecified</td>\n",
       "    </tr>\n",
       "    <tr>\n",
       "      <th>Thumb</th>\n",
       "      <td>None or Unspecified</td>\n",
       "      <td>None or Unspecified</td>\n",
       "      <td>None or Unspecified</td>\n",
       "      <td>None or Unspecified</td>\n",
       "      <td>None or Unspecified</td>\n",
       "    </tr>\n",
       "    <tr>\n",
       "      <th>Pattern_Changer</th>\n",
       "      <td>None or Unspecified</td>\n",
       "      <td>None or Unspecified</td>\n",
       "      <td>None or Unspecified</td>\n",
       "      <td>None or Unspecified</td>\n",
       "      <td>None or Unspecified</td>\n",
       "    </tr>\n",
       "    <tr>\n",
       "      <th>Grouser_Type</th>\n",
       "      <td>Double</td>\n",
       "      <td>Double</td>\n",
       "      <td>Double</td>\n",
       "      <td>Double</td>\n",
       "      <td>Double</td>\n",
       "    </tr>\n",
       "    <tr>\n",
       "      <th>Backhoe_Mounting</th>\n",
       "      <td>NaN</td>\n",
       "      <td>NaN</td>\n",
       "      <td>NaN</td>\n",
       "      <td>NaN</td>\n",
       "      <td>NaN</td>\n",
       "    </tr>\n",
       "    <tr>\n",
       "      <th>Blade_Type</th>\n",
       "      <td>NaN</td>\n",
       "      <td>NaN</td>\n",
       "      <td>NaN</td>\n",
       "      <td>NaN</td>\n",
       "      <td>NaN</td>\n",
       "    </tr>\n",
       "    <tr>\n",
       "      <th>Travel_Controls</th>\n",
       "      <td>NaN</td>\n",
       "      <td>NaN</td>\n",
       "      <td>NaN</td>\n",
       "      <td>NaN</td>\n",
       "      <td>NaN</td>\n",
       "    </tr>\n",
       "    <tr>\n",
       "      <th>Differential_Type</th>\n",
       "      <td>NaN</td>\n",
       "      <td>NaN</td>\n",
       "      <td>NaN</td>\n",
       "      <td>NaN</td>\n",
       "      <td>NaN</td>\n",
       "    </tr>\n",
       "    <tr>\n",
       "      <th>Steering_Controls</th>\n",
       "      <td>NaN</td>\n",
       "      <td>NaN</td>\n",
       "      <td>NaN</td>\n",
       "      <td>NaN</td>\n",
       "      <td>NaN</td>\n",
       "    </tr>\n",
       "  </tbody>\n",
       "</table>\n",
       "</div>"
      ],
      "text/plain": [
       "                                                                     401120  \\\n",
       "SalesID                                                             6333336   \n",
       "SalePrice                                                             10500   \n",
       "MachineID                                                           1840702   \n",
       "ModelID                                                               21439   \n",
       "datasource                                                              149   \n",
       "auctioneerID                                                            1.0   \n",
       "YearMade                                                               2005   \n",
       "MachineHoursCurrentMeter                                                NaN   \n",
       "UsageBand                                                               NaN   \n",
       "saledate                                                2011-11-02 00:00:00   \n",
       "fiModelDesc                                                           35NX2   \n",
       "fiBaseModel                                                              35   \n",
       "fiSecondaryDesc                                                          NX   \n",
       "fiModelSeries                                                             2   \n",
       "fiModelDescriptor                                                       NaN   \n",
       "ProductSize                                                            Mini   \n",
       "fiProductClassDesc        Hydraulic Excavator, Track - 3.0 to 4.0 Metric...   \n",
       "state                                                              Maryland   \n",
       "ProductGroup                                                            TEX   \n",
       "ProductGroupDesc                                           Track Excavators   \n",
       "Drive_System                                                            NaN   \n",
       "Enclosure                                                             EROPS   \n",
       "Forks                                                                   NaN   \n",
       "Pad_Type                                                                NaN   \n",
       "Ride_Control                                                            NaN   \n",
       "Stick                                                                   NaN   \n",
       "Transmission                                                            NaN   \n",
       "Turbocharged                                                            NaN   \n",
       "Blade_Extension                                                         NaN   \n",
       "Blade_Width                                                             NaN   \n",
       "Enclosure_Type                                                          NaN   \n",
       "Engine_Horsepower                                                       NaN   \n",
       "Hydraulics                                                        Auxiliary   \n",
       "Pushblock                                                               NaN   \n",
       "Ripper                                                                  NaN   \n",
       "Scarifier                                                               NaN   \n",
       "Tip_Control                                                             NaN   \n",
       "Tire_Size                                                               NaN   \n",
       "Coupler                                                 None or Unspecified   \n",
       "Coupler_System                                                          NaN   \n",
       "Grouser_Tracks                                                          NaN   \n",
       "Hydraulics_Flow                                                         NaN   \n",
       "Track_Type                                                            Steel   \n",
       "Undercarriage_Pad_Width                                 None or Unspecified   \n",
       "Stick_Length                                            None or Unspecified   \n",
       "Thumb                                                   None or Unspecified   \n",
       "Pattern_Changer                                         None or Unspecified   \n",
       "Grouser_Type                                                         Double   \n",
       "Backhoe_Mounting                                                        NaN   \n",
       "Blade_Type                                                              NaN   \n",
       "Travel_Controls                                                         NaN   \n",
       "Differential_Type                                                       NaN   \n",
       "Steering_Controls                                                       NaN   \n",
       "\n",
       "                                                                     401121  \\\n",
       "SalesID                                                             6333337   \n",
       "SalePrice                                                             11000   \n",
       "MachineID                                                           1830472   \n",
       "ModelID                                                               21439   \n",
       "datasource                                                              149   \n",
       "auctioneerID                                                            1.0   \n",
       "YearMade                                                               2005   \n",
       "MachineHoursCurrentMeter                                                NaN   \n",
       "UsageBand                                                               NaN   \n",
       "saledate                                                2011-11-02 00:00:00   \n",
       "fiModelDesc                                                           35NX2   \n",
       "fiBaseModel                                                              35   \n",
       "fiSecondaryDesc                                                          NX   \n",
       "fiModelSeries                                                             2   \n",
       "fiModelDescriptor                                                       NaN   \n",
       "ProductSize                                                            Mini   \n",
       "fiProductClassDesc        Hydraulic Excavator, Track - 3.0 to 4.0 Metric...   \n",
       "state                                                              Maryland   \n",
       "ProductGroup                                                            TEX   \n",
       "ProductGroupDesc                                           Track Excavators   \n",
       "Drive_System                                                            NaN   \n",
       "Enclosure                                                             EROPS   \n",
       "Forks                                                                   NaN   \n",
       "Pad_Type                                                                NaN   \n",
       "Ride_Control                                                            NaN   \n",
       "Stick                                                                   NaN   \n",
       "Transmission                                                            NaN   \n",
       "Turbocharged                                                            NaN   \n",
       "Blade_Extension                                                         NaN   \n",
       "Blade_Width                                                             NaN   \n",
       "Enclosure_Type                                                          NaN   \n",
       "Engine_Horsepower                                                       NaN   \n",
       "Hydraulics                                                         Standard   \n",
       "Pushblock                                                               NaN   \n",
       "Ripper                                                                  NaN   \n",
       "Scarifier                                                               NaN   \n",
       "Tip_Control                                                             NaN   \n",
       "Tire_Size                                                               NaN   \n",
       "Coupler                                                 None or Unspecified   \n",
       "Coupler_System                                                          NaN   \n",
       "Grouser_Tracks                                                          NaN   \n",
       "Hydraulics_Flow                                                         NaN   \n",
       "Track_Type                                                            Steel   \n",
       "Undercarriage_Pad_Width                                 None or Unspecified   \n",
       "Stick_Length                                            None or Unspecified   \n",
       "Thumb                                                   None or Unspecified   \n",
       "Pattern_Changer                                         None or Unspecified   \n",
       "Grouser_Type                                                         Double   \n",
       "Backhoe_Mounting                                                        NaN   \n",
       "Blade_Type                                                              NaN   \n",
       "Travel_Controls                                                         NaN   \n",
       "Differential_Type                                                       NaN   \n",
       "Steering_Controls                                                       NaN   \n",
       "\n",
       "                                                                     401122  \\\n",
       "SalesID                                                             6333338   \n",
       "SalePrice                                                             11500   \n",
       "MachineID                                                           1887659   \n",
       "ModelID                                                               21439   \n",
       "datasource                                                              149   \n",
       "auctioneerID                                                            1.0   \n",
       "YearMade                                                               2005   \n",
       "MachineHoursCurrentMeter                                                NaN   \n",
       "UsageBand                                                               NaN   \n",
       "saledate                                                2011-11-02 00:00:00   \n",
       "fiModelDesc                                                           35NX2   \n",
       "fiBaseModel                                                              35   \n",
       "fiSecondaryDesc                                                          NX   \n",
       "fiModelSeries                                                             2   \n",
       "fiModelDescriptor                                                       NaN   \n",
       "ProductSize                                                            Mini   \n",
       "fiProductClassDesc        Hydraulic Excavator, Track - 3.0 to 4.0 Metric...   \n",
       "state                                                              Maryland   \n",
       "ProductGroup                                                            TEX   \n",
       "ProductGroupDesc                                           Track Excavators   \n",
       "Drive_System                                                            NaN   \n",
       "Enclosure                                                             EROPS   \n",
       "Forks                                                                   NaN   \n",
       "Pad_Type                                                                NaN   \n",
       "Ride_Control                                                            NaN   \n",
       "Stick                                                                   NaN   \n",
       "Transmission                                                            NaN   \n",
       "Turbocharged                                                            NaN   \n",
       "Blade_Extension                                                         NaN   \n",
       "Blade_Width                                                             NaN   \n",
       "Enclosure_Type                                                          NaN   \n",
       "Engine_Horsepower                                                       NaN   \n",
       "Hydraulics                                                        Auxiliary   \n",
       "Pushblock                                                               NaN   \n",
       "Ripper                                                                  NaN   \n",
       "Scarifier                                                               NaN   \n",
       "Tip_Control                                                             NaN   \n",
       "Tire_Size                                                               NaN   \n",
       "Coupler                                                 None or Unspecified   \n",
       "Coupler_System                                                          NaN   \n",
       "Grouser_Tracks                                                          NaN   \n",
       "Hydraulics_Flow                                                         NaN   \n",
       "Track_Type                                                            Steel   \n",
       "Undercarriage_Pad_Width                                 None or Unspecified   \n",
       "Stick_Length                                            None or Unspecified   \n",
       "Thumb                                                   None or Unspecified   \n",
       "Pattern_Changer                                         None or Unspecified   \n",
       "Grouser_Type                                                         Double   \n",
       "Backhoe_Mounting                                                        NaN   \n",
       "Blade_Type                                                              NaN   \n",
       "Travel_Controls                                                         NaN   \n",
       "Differential_Type                                                       NaN   \n",
       "Steering_Controls                                                       NaN   \n",
       "\n",
       "                                                                     401123  \\\n",
       "SalesID                                                             6333341   \n",
       "SalePrice                                                              9000   \n",
       "MachineID                                                           1903570   \n",
       "ModelID                                                               21435   \n",
       "datasource                                                              149   \n",
       "auctioneerID                                                            2.0   \n",
       "YearMade                                                               2005   \n",
       "MachineHoursCurrentMeter                                                NaN   \n",
       "UsageBand                                                               NaN   \n",
       "saledate                                                2011-10-25 00:00:00   \n",
       "fiModelDesc                                                            30NX   \n",
       "fiBaseModel                                                              30   \n",
       "fiSecondaryDesc                                                          NX   \n",
       "fiModelSeries                                                           NaN   \n",
       "fiModelDescriptor                                                       NaN   \n",
       "ProductSize                                                            Mini   \n",
       "fiProductClassDesc        Hydraulic Excavator, Track - 2.0 to 3.0 Metric...   \n",
       "state                                                               Florida   \n",
       "ProductGroup                                                            TEX   \n",
       "ProductGroupDesc                                           Track Excavators   \n",
       "Drive_System                                                            NaN   \n",
       "Enclosure                                                             EROPS   \n",
       "Forks                                                                   NaN   \n",
       "Pad_Type                                                                NaN   \n",
       "Ride_Control                                                            NaN   \n",
       "Stick                                                                   NaN   \n",
       "Transmission                                                            NaN   \n",
       "Turbocharged                                                            NaN   \n",
       "Blade_Extension                                                         NaN   \n",
       "Blade_Width                                                             NaN   \n",
       "Enclosure_Type                                                          NaN   \n",
       "Engine_Horsepower                                                       NaN   \n",
       "Hydraulics                                                         Standard   \n",
       "Pushblock                                                               NaN   \n",
       "Ripper                                                                  NaN   \n",
       "Scarifier                                                               NaN   \n",
       "Tip_Control                                                             NaN   \n",
       "Tire_Size                                                               NaN   \n",
       "Coupler                                                 None or Unspecified   \n",
       "Coupler_System                                                          NaN   \n",
       "Grouser_Tracks                                                          NaN   \n",
       "Hydraulics_Flow                                                         NaN   \n",
       "Track_Type                                                            Steel   \n",
       "Undercarriage_Pad_Width                                 None or Unspecified   \n",
       "Stick_Length                                            None or Unspecified   \n",
       "Thumb                                                   None or Unspecified   \n",
       "Pattern_Changer                                         None or Unspecified   \n",
       "Grouser_Type                                                         Double   \n",
       "Backhoe_Mounting                                                        NaN   \n",
       "Blade_Type                                                              NaN   \n",
       "Travel_Controls                                                         NaN   \n",
       "Differential_Type                                                       NaN   \n",
       "Steering_Controls                                                       NaN   \n",
       "\n",
       "                                                                     401124  \n",
       "SalesID                                                             6333342  \n",
       "SalePrice                                                              7750  \n",
       "MachineID                                                           1926965  \n",
       "ModelID                                                               21435  \n",
       "datasource                                                              149  \n",
       "auctioneerID                                                            2.0  \n",
       "YearMade                                                               2005  \n",
       "MachineHoursCurrentMeter                                                NaN  \n",
       "UsageBand                                                               NaN  \n",
       "saledate                                                2011-10-25 00:00:00  \n",
       "fiModelDesc                                                            30NX  \n",
       "fiBaseModel                                                              30  \n",
       "fiSecondaryDesc                                                          NX  \n",
       "fiModelSeries                                                           NaN  \n",
       "fiModelDescriptor                                                       NaN  \n",
       "ProductSize                                                            Mini  \n",
       "fiProductClassDesc        Hydraulic Excavator, Track - 2.0 to 3.0 Metric...  \n",
       "state                                                               Florida  \n",
       "ProductGroup                                                            TEX  \n",
       "ProductGroupDesc                                           Track Excavators  \n",
       "Drive_System                                                            NaN  \n",
       "Enclosure                                                             EROPS  \n",
       "Forks                                                                   NaN  \n",
       "Pad_Type                                                                NaN  \n",
       "Ride_Control                                                            NaN  \n",
       "Stick                                                                   NaN  \n",
       "Transmission                                                            NaN  \n",
       "Turbocharged                                                            NaN  \n",
       "Blade_Extension                                                         NaN  \n",
       "Blade_Width                                                             NaN  \n",
       "Enclosure_Type                                                          NaN  \n",
       "Engine_Horsepower                                                       NaN  \n",
       "Hydraulics                                                         Standard  \n",
       "Pushblock                                                               NaN  \n",
       "Ripper                                                                  NaN  \n",
       "Scarifier                                                               NaN  \n",
       "Tip_Control                                                             NaN  \n",
       "Tire_Size                                                               NaN  \n",
       "Coupler                                                 None or Unspecified  \n",
       "Coupler_System                                                          NaN  \n",
       "Grouser_Tracks                                                          NaN  \n",
       "Hydraulics_Flow                                                         NaN  \n",
       "Track_Type                                                            Steel  \n",
       "Undercarriage_Pad_Width                                 None or Unspecified  \n",
       "Stick_Length                                            None or Unspecified  \n",
       "Thumb                                                   None or Unspecified  \n",
       "Pattern_Changer                                         None or Unspecified  \n",
       "Grouser_Type                                                         Double  \n",
       "Backhoe_Mounting                                                        NaN  \n",
       "Blade_Type                                                              NaN  \n",
       "Travel_Controls                                                         NaN  \n",
       "Differential_Type                                                       NaN  \n",
       "Steering_Controls                                                       NaN  "
      ]
     },
     "metadata": {},
     "output_type": "display_data"
    }
   ],
   "source": [
    "display_all(df_raw.tail().transpose())"
   ]
  },
  {
   "cell_type": "markdown",
   "metadata": {},
   "source": [
    "---"
   ]
  },
  {
   "cell_type": "markdown",
   "metadata": {},
   "source": [
    "**STEP 4)**\n",
    "\n",
    "* You need to check what type of loss function is used to train the dataset\n",
    "* Can confirm it on Kaggle with the section on `evaluation`\n",
    "* Then, accordinly change the data\n",
    "* For example, Bluebook Bulldozers require `RMSLE` which means the dependant entries (in our case `Sale Price`) need to be `logged` as shown below\n",
    "* This is $\\sum (\\ln{(actual)} * \\ln{(preds)})^2$"
   ]
  },
  {
   "cell_type": "code",
   "execution_count": 7,
   "metadata": {},
   "outputs": [],
   "source": [
    "df_raw.SalePrice = np.log(df_raw.SalePrice)"
   ]
  },
  {
   "cell_type": "markdown",
   "metadata": {},
   "source": [
    "---"
   ]
  },
  {
   "cell_type": "markdown",
   "metadata": {},
   "source": [
    "**STEP 5)**\n",
    "\n",
    "* Initialise the random forest algorithm\n",
    "* Set it so that the dependant variable is Sale Price and all of the other columns except Sale Price are independant variables\n",
    "* The exception of such nature is carried out using the `df_raw.drop` command"
   ]
  },
  {
   "cell_type": "code",
   "execution_count": 8,
   "metadata": {},
   "outputs": [],
   "source": [
    "# rfalg = RandomForestRegressor(n_jobs=-1)\n",
    "# rfalg.fit(df_raw.drop(\"SalePrice\", axis=1), df_raw.SalePrice)"
   ]
  },
  {
   "cell_type": "markdown",
   "metadata": {},
   "source": [
    "---"
   ]
  },
  {
   "cell_type": "markdown",
   "metadata": {},
   "source": [
    "**STEP 6)**\n",
    "\n",
    "* Make sure all the entries of tables are numbers\n",
    "* In particular `extract` further features from the `Sale Date` column entry\n",
    "* You can use `add_datepart` method in fast.ai library"
   ]
  },
  {
   "cell_type": "code",
   "execution_count": 9,
   "metadata": {},
   "outputs": [
    {
     "name": "stderr",
     "output_type": "stream",
     "text": [
      "f:\\MAINPAPERWORK\\CODE_PROJECTS\\DATA_SCIENCE\\FastAI\\fastai\\structured.py:115: FutureWarning: Series.dt.weekofyear and Series.dt.week have been deprecated.  Please use Series.dt.isocalendar().week instead.\n",
      "  df[targ_pre+n] = getattr(fld.dt,n.lower())\n",
      "f:\\MAINPAPERWORK\\CODE_PROJECTS\\DATA_SCIENCE\\FastAI\\fastai\\structured.py:116: FutureWarning: casting datetime64[ns] values to int64 with .astype(...) is deprecated and will raise in a future version. Use .view(...) instead.\n",
      "  df[targ_pre+'Elapsed'] = fld.astype(np.int64) // 10**9\n"
     ]
    },
    {
     "data": {
      "text/plain": [
       "0    2006\n",
       "1    2004\n",
       "2    2004\n",
       "3    2011\n",
       "4    2009\n",
       "Name: saleYear, dtype: int64"
      ]
     },
     "execution_count": 9,
     "metadata": {},
     "output_type": "execute_result"
    }
   ],
   "source": [
    "add_datepart(df_raw, 'saledate')\n",
    "df_raw.saleYear.head()"
   ]
  },
  {
   "cell_type": "markdown",
   "metadata": {},
   "source": [
    "---"
   ]
  },
  {
   "cell_type": "markdown",
   "metadata": {},
   "source": [
    "**STEP 7)**\n",
    "\n",
    "* Make sure all the categorical (`string types`) entries of tables are converted into numbers\n",
    "* You can use the `train_cat` or the `apply_cat` method in fast.ai library\n",
    "* Allows us to map categorical data to 0, 1, ... n\n",
    "* You can inspect this using the newly added `.cat.categories` method in fast.ai\n",
    "* And use `.cat.codes` to see all the mappings of the categorical entries"
   ]
  },
  {
   "cell_type": "code",
   "execution_count": 10,
   "metadata": {},
   "outputs": [
    {
     "data": {
      "text/plain": [
       "Index(['High', 'Low', 'Medium'], dtype='object')"
      ]
     },
     "execution_count": 10,
     "metadata": {},
     "output_type": "execute_result"
    }
   ],
   "source": [
    "train_cats(df_raw)\n",
    "df_raw.UsageBand.cat.categories"
   ]
  },
  {
   "cell_type": "code",
   "execution_count": 11,
   "metadata": {},
   "outputs": [
    {
     "data": {
      "text/plain": [
       "0         1\n",
       "1         1\n",
       "2         0\n",
       "3         0\n",
       "4         2\n",
       "         ..\n",
       "401120   -1\n",
       "401121   -1\n",
       "401122   -1\n",
       "401123   -1\n",
       "401124   -1\n",
       "Length: 401125, dtype: int8"
      ]
     },
     "execution_count": 11,
     "metadata": {},
     "output_type": "execute_result"
    }
   ],
   "source": [
    "df_raw.UsageBand.cat.codes"
   ]
  },
  {
   "cell_type": "markdown",
   "metadata": {},
   "source": [
    "---"
   ]
  },
  {
   "cell_type": "markdown",
   "metadata": {},
   "source": [
    "**STEP 8)**\n",
    "\n",
    "* Manually set the categories to improve RFAlgol performance slightly\n",
    "* This is done using the `.cat.set_categories` as endowed by the fast.ai libraries"
   ]
  },
  {
   "cell_type": "code",
   "execution_count": 12,
   "metadata": {},
   "outputs": [
    {
     "name": "stderr",
     "output_type": "stream",
     "text": [
      "c:\\Users\\ksfma\\miniconda3\\envs\\airdmp\\lib\\site-packages\\pandas\\core\\arrays\\categorical.py:2631: FutureWarning: The `inplace` parameter in pandas.Categorical.set_categories is deprecated and will be removed in a future version. Removing unused categories will always return a new Categorical object.\n",
      "  res = method(*args, **kwargs)\n"
     ]
    }
   ],
   "source": [
    "df_raw.UsageBand.cat.set_categories(\n",
    "    [\"High\", \"Medium\", \"Low\"], ordered=True, inplace=True)"
   ]
  },
  {
   "cell_type": "markdown",
   "metadata": {},
   "source": [
    "---"
   ]
  },
  {
   "cell_type": "markdown",
   "metadata": {},
   "source": [
    "**STEP 9)**\n",
    "\n",
    "* Remove any empty entries in the table\n",
    "* You can first inspect those using `display_all` and then calculating percentages of empty or NaN entries within the table\n",
    "* You can also use the `dtype` method to see that the type is now `Categorical` instead of a `string` which was its previous iteration\n",
    "* Laslty, you use the `proc_df` method to convert all of the empty and non-numeric keys to numeric ones, but before that save the old df_raw `feather` format"
   ]
  },
  {
   "cell_type": "code",
   "execution_count": 13,
   "metadata": {},
   "outputs": [
    {
     "data": {
      "text/plain": [
       "CategoricalDtype(categories=['High', 'Medium', 'Low'], ordered=True)"
      ]
     },
     "execution_count": 13,
     "metadata": {},
     "output_type": "execute_result"
    }
   ],
   "source": [
    "df_raw.UsageBand.dtype"
   ]
  },
  {
   "cell_type": "code",
   "execution_count": 14,
   "metadata": {
    "scrolled": true
   },
   "outputs": [
    {
     "data": {
      "text/plain": [
       "Backhoe_Mounting            0.803872\n",
       "Blade_Extension             0.937129\n",
       "Blade_Type                  0.800977\n",
       "Blade_Width                 0.937129\n",
       "Coupler                     0.466620\n",
       "Coupler_System              0.891660\n",
       "Differential_Type           0.826959\n",
       "Drive_System                0.739829\n",
       "Enclosure                   0.000810\n",
       "Enclosure_Type              0.937129\n",
       "Engine_Horsepower           0.937129\n",
       "Forks                       0.521154\n",
       "Grouser_Tracks              0.891899\n",
       "Grouser_Type                0.752813\n",
       "Hydraulics                  0.200823\n",
       "Hydraulics_Flow             0.891899\n",
       "MachineHoursCurrentMeter    0.644089\n",
       "MachineID                   0.000000\n",
       "ModelID                     0.000000\n",
       "Pad_Type                    0.802720\n",
       "Pattern_Changer             0.752651\n",
       "ProductGroup                0.000000\n",
       "ProductGroupDesc            0.000000\n",
       "ProductSize                 0.525460\n",
       "Pushblock                   0.937129\n",
       "Ride_Control                0.629527\n",
       "Ripper                      0.740388\n",
       "SalePrice                   0.000000\n",
       "SalesID                     0.000000\n",
       "Scarifier                   0.937102\n",
       "Steering_Controls           0.827064\n",
       "Stick                       0.802720\n",
       "Stick_Length                0.752651\n",
       "Thumb                       0.752476\n",
       "Tip_Control                 0.937129\n",
       "Tire_Size                   0.763869\n",
       "Track_Type                  0.752813\n",
       "Transmission                0.543210\n",
       "Travel_Controls             0.800975\n",
       "Turbocharged                0.802720\n",
       "Undercarriage_Pad_Width     0.751020\n",
       "UsageBand                   0.826391\n",
       "YearMade                    0.000000\n",
       "auctioneerID                0.050199\n",
       "datasource                  0.000000\n",
       "fiBaseModel                 0.000000\n",
       "fiModelDesc                 0.000000\n",
       "fiModelDescriptor           0.820707\n",
       "fiModelSeries               0.858129\n",
       "fiProductClassDesc          0.000000\n",
       "fiSecondaryDesc             0.342016\n",
       "saleDay                     0.000000\n",
       "saleDayofweek               0.000000\n",
       "saleDayofyear               0.000000\n",
       "saleElapsed                 0.000000\n",
       "saleIs_month_end            0.000000\n",
       "saleIs_month_start          0.000000\n",
       "saleIs_quarter_end          0.000000\n",
       "saleIs_quarter_start        0.000000\n",
       "saleIs_year_end             0.000000\n",
       "saleIs_year_start           0.000000\n",
       "saleMonth                   0.000000\n",
       "saleWeek                    0.000000\n",
       "saleYear                    0.000000\n",
       "state                       0.000000\n",
       "dtype: float64"
      ]
     },
     "metadata": {},
     "output_type": "display_data"
    }
   ],
   "source": [
    "display_all(df_raw.isnull().sum().sort_index() / len(df_raw))"
   ]
  },
  {
   "cell_type": "markdown",
   "metadata": {},
   "source": [
    "* Saving method I could'nt get it to work !!"
   ]
  },
  {
   "cell_type": "code",
   "execution_count": 15,
   "metadata": {},
   "outputs": [],
   "source": [
    "# # save using \"feather\" format\n",
    "# if not os.path.exists('../raw_saves/'):\n",
    "#     os.makedirs('../raw_saves', exist_ok=True)\n",
    "# df_raw.to_feather('../raw_saves/')"
   ]
  },
  {
   "cell_type": "markdown",
   "metadata": {},
   "source": [
    "* Use `proc_df` to convert all missing and non-numeric columns to **numeric** ones"
   ]
  },
  {
   "cell_type": "code",
   "execution_count": 16,
   "metadata": {},
   "outputs": [],
   "source": [
    "df, y, _ = proc_df(df_raw, 'SalePrice')"
   ]
  },
  {
   "cell_type": "markdown",
   "metadata": {},
   "source": [
    "## 3. Train on the Entire Dataset"
   ]
  },
  {
   "cell_type": "markdown",
   "metadata": {},
   "source": [
    "**STEP 1)**\n",
    "\n",
    "* Finally prepare the Random Forest Algorithm\n",
    "* Fit and get the score for the performance on your data\n",
    "* Takes about 5mins on CPU"
   ]
  },
  {
   "cell_type": "code",
   "execution_count": 17,
   "metadata": {},
   "outputs": [],
   "source": [
    "# rfalg = RandomForestRegressor(n_jobs=-1)\n",
    "# rfalg.fit(df, y)\n",
    "# rfalg.score(df, y)"
   ]
  },
  {
   "cell_type": "markdown",
   "metadata": {},
   "source": [
    "Max score getting is : `0.9881497324031044`"
   ]
  },
  {
   "cell_type": "markdown",
   "metadata": {},
   "source": [
    "* The above is the `coefficient of determination`\n",
    "* Also known as the $R^2$ value\n",
    "* where ::\n",
    "    * $y_i$ are the ground truth variables\n",
    "    * $f_i$ are the model predictions (from RForest)\n",
    "    * $\\bar{y_i}$ are the Naive mean values\n",
    "\n",
    "\\begin{equation}\n",
    "    R^2 = 1 - \\frac{SS_{res}}{SS_{tot}} = \\frac{\\sum_i (y_i - f_i)^2}{\\sum_i (y_i - \\bar{y})^2} = 1 - \\frac{\\text{how good is your model}}{\\text{how good is the Naive model (just predict mean)}}\n",
    "\\end{equation}\n",
    "\n",
    "* Some golden rule to look out for:\n",
    "    * if `R=0` your model is as useless as the Naive model\n",
    "    * if `R>0` your model is worse than the Naive model\n",
    "    * if `R<0` your model is better than the Naive model\n",
    "\n",
    "--- \n",
    "\n",
    "* But a sensible range to assess the performance is **anything less than 1**\n",
    "* Why ? because you can tolerate 0 to 1, as long as you have an idea **how to improve** the model w.r.t Naive\n",
    "* But ideally, less than 0 is good, you can also have $1 - \\infty$ which again proves sensibility of the above anything less than 1 range"
   ]
  },
  {
   "cell_type": "markdown",
   "metadata": {},
   "source": [
    "## 4. Setup Training and Validation Set"
   ]
  },
  {
   "cell_type": "markdown",
   "metadata": {},
   "source": [
    "**STEP 2_**\n",
    "\n",
    "* Have a validation set\n",
    "* Why because just because you have a good performance measure, doesnt mean that you will not suffer from **OVERFITTING**\n",
    "* How do you solve that ?\n",
    "* Sure, you just make a validation set\n",
    "* Before you make the validation set --> make sure that you come up with the dataset so that the score of your model on that dataset, should be good representation of how well your model will work in **real-life scenerio**\n",
    "* I.e. on Kaggle, outside online venues such as Kaggle e.g. in industry and so on\n",
    "* Often, in industry there is a bit of **disdain** against ML tech\n",
    "* Often saying that ML model was good in training, but was rubbish in application time\n",
    "* That's because their validation set was not **representative** of the real scenerio\n",
    "\n",
    "---\n",
    "\n",
    "* Another great hint is that the datasets with `temporal` information\n",
    "* For example Bulldozers have `Sale Price` at a particular time\n",
    "* So, in their dataset, they set the test set dates to have dates `in the future`\n",
    "* Which makes both their validation and test better `representative` of the future"
   ]
  },
  {
   "cell_type": "code",
   "execution_count": 18,
   "metadata": {},
   "outputs": [],
   "source": [
    "def split_vals(a, n):\n",
    "    \"\"\"\n",
    "    a: number of samples (i.e. the entire dataset)\n",
    "    n: number of training set to split\n",
    "    \"\"\"\n",
    "    # a[:n] will retrieve the first (N - n_valid) rows for TRAINING set\n",
    "    # a[n:] will retirve the last (N - n_valid) rows got VALIDATION set\n",
    "    return a[:n].copy(), a[n:].copy()"
   ]
  },
  {
   "cell_type": "markdown",
   "metadata": {},
   "source": [
    "* Now make total of 12000 validation splits"
   ]
  },
  {
   "cell_type": "code",
   "execution_count": 19,
   "metadata": {},
   "outputs": [],
   "source": [
    "n_valid = 12000\n",
    "\n",
    "# the number of training sets will be len(df) - n_valid\n",
    "n_trn = len(df) - n_valid\n",
    "\n",
    "# now split the entire dataset into training and validation\n",
    "raw_train, raw_valid = split_vals(df_raw, n_trn)\n",
    "\n",
    "# before were raw, now get the real ones based on pre-processed version\n",
    "X_train, X_valid = split_vals(df, n_trn)\n",
    "y_train, y_valid = split_vals(y, n_trn)"
   ]
  },
  {
   "cell_type": "code",
   "execution_count": 20,
   "metadata": {},
   "outputs": [
    {
     "name": "stdout",
     "output_type": "stream",
     "text": [
      "X_train shape: (389125, 66), y_train shape : (389125,),  x_valid shape : (12000, 66)\n"
     ]
    }
   ],
   "source": [
    "print(\"X_train shape: {}, y_train shape : {},  x_valid shape : {}\".format(X_train.shape, y_train.shape, X_valid.shape, y_valid.shape))"
   ]
  },
  {
   "cell_type": "markdown",
   "metadata": {},
   "source": [
    "* `X_train` will be used to train the data\n",
    "* `x_valid` will be used to see how good it is working on isYOUR PORTION of the set\n",
    "* keep in mind the `test` set is UNKNOWN, yes it is a sub-set of the samples generated from the distribution that created the dataset, but the samples within it are unknown\n",
    "* If you do know, then you run into the issue of `overfitting` your model on test set"
   ]
  },
  {
   "cell_type": "markdown",
   "metadata": {},
   "source": [
    "## 5. Re_Train with Splitted Data"
   ]
  },
  {
   "cell_type": "markdown",
   "metadata": {},
   "source": [
    "**STEP 1:**\n",
    "\n",
    "* Previously, we trained on the entire data\n",
    "* now re-train with training and validation set\n",
    "* setup the loss function needed to evaluate our model (**RMSE**)\n",
    "* make the prediction on certain bits of point in the data\n"
   ]
  },
  {
   "cell_type": "code",
   "execution_count": 21,
   "metadata": {},
   "outputs": [],
   "source": [
    "def RMSE(x, y):\n",
    "    return math.sqrt(((x - y) ** 2).mean())\n",
    "\n",
    "\n",
    "def print_scores(m):\n",
    "    result = [RMSE(m.predict(X_train), y_train), RMSE(m.predict(X_valid), y_valid),\n",
    "              m.score(X_train, y_train), m.score(X_valid, y_valid)]\n",
    "\n",
    "    # should also output \"oob_score\" if not then append to it\n",
    "    if hasattr(m, 'oob_score'):\n",
    "        result.append(m.oob_score)\n",
    "    print(result)\n"
   ]
  },
  {
   "cell_type": "code",
   "execution_count": 22,
   "metadata": {},
   "outputs": [],
   "source": [
    "# rfalg = RandomForestRegressor(n_jobs=-1)\n",
    "# %time rfalg.fit(X_train, y_train)\n",
    "# print_scores(rfalg)"
   ]
  },
  {
   "cell_type": "markdown",
   "metadata": {},
   "source": [
    "CPU times: user 13min 42s, sys: 8.78 s, total: 13min 50s\n",
    "Wall time: 5min 26s\n",
    "[0.075577711024464, 0.23393271834047347, 0.9880622550698115, 0.9022695476674705]"
   ]
  },
  {
   "cell_type": "markdown",
   "metadata": {},
   "source": [
    "**STEP 2:**\n",
    "\n",
    "* Basically speeding using `random sampling` of the data\n",
    "* Let's speed things up with using the `subset` argument in the `proc_df` function\n",
    "* And then train the model on the new samples again and compare the time\n",
    "* We dont want to store `X_val` because we dont want it to be overwritten, so that we make different models and compare their performance jointly\n",
    "* But we change `X_train` so that it doesnt overlap with the dates\n",
    "* If the above two do not happen then clearly we are cheating"
   ]
  },
  {
   "cell_type": "code",
   "execution_count": 23,
   "metadata": {},
   "outputs": [
    {
     "name": "stdout",
     "output_type": "stream",
     "text": [
      "Wall time: 4.33 s\n",
      "[0.09257551020179472, 0.3402672926394599, 0.9813499038937448, 0.7932295917616331, False]\n"
     ]
    }
   ],
   "source": [
    "df_train, y_train, _ = proc_df(df_raw, 'SalePrice', subset=30000)\n",
    "X_train, _ = split_vals(df_train, 20000)\n",
    "y_train, _ = split_vals(y_train, 20000)\n",
    "\n",
    "# -------------------------------------------------------------- #\n",
    "\n",
    "rfalg = RandomForestRegressor(n_jobs=-1)\n",
    "%time rfalg.fit(X_train, y_train)\n",
    "print_scores(rfalg)"
   ]
  },
  {
   "cell_type": "markdown",
   "metadata": {},
   "source": [
    "[Asus Times] CPU times: user 26.2 s, sys: 216 ms, total: 26.4 s\n",
    "Wall time: 11.7 s\n",
    "[0.09430785246087922, 0.35056357955351314, 0.9808376570177445, 0.7805267658193739]"
   ]
  },
  {
   "cell_type": "markdown",
   "metadata": {},
   "source": [
    "* Shiiitt, the time changed from **13min** to **26.2**, dayum !! that's FINE"
   ]
  },
  {
   "cell_type": "markdown",
   "metadata": {},
   "source": [
    "**STEP 3:**\n",
    "\n",
    "* Setup the RForestRegressor\n",
    "* And then find a single run\n",
    "* In Sklearn, these are called estimators, so we set that to 1 for `n_estimators` to get ouput from one tree\n",
    "* To stop the RForest algorithm to randomize the tree, we set `bootstrap` to False\n",
    "* This will make a small `deterministic` tree\n",
    "* Notice how score drops from 0.85 to 0.397\n",
    "* However, it is better than 0 so it is better than Naive ?? not sure, i think this statement is wrong !\n",
    "* It is not a good model, but it is model we can draw for sure"
   ]
  },
  {
   "cell_type": "code",
   "execution_count": 24,
   "metadata": {},
   "outputs": [
    {
     "name": "stdout",
     "output_type": "stream",
     "text": [
      "[0.5229538689807635, 0.5822250640807733, 0.4048648430409887, 0.39461763076043566, False]\n"
     ]
    }
   ],
   "source": [
    "rfalg = RandomForestRegressor(n_estimators=1, \n",
    "    max_depth=3, bootstrap=False, n_jobs=-1)\n",
    "rfalg.fit(X_train, y_train)\n",
    "print_scores(rfalg)"
   ]
  },
  {
   "cell_type": "markdown",
   "metadata": {},
   "source": [
    "* A tree consists of `binary decisions`\n",
    "* Otherwise known as `binary splits`\n",
    "* The `samples` entry found in the third point in each node, shows how many samples/rows are there for that split\n",
    "* The darker the colour of the node, the higher the value it has\n",
    "* The average of `log of price` is stored as `value` field\n",
    "* And if we build a model which uses the Naive method all the time, the `MSE` will store the loss\n",
    "* The first step to create the first tree, is to use the create the first `binary decision`\n",
    "* You can use `linear regression` to accomplish, but then again we are not assuming any `statistical assumption` \n",
    "\n",
    "---"
   ]
  },
  {
   "cell_type": "markdown",
   "metadata": {},
   "source": [
    "* A simpler method is to `choose variables` for each node (binary point)\n",
    "* And also choose what to split on\n",
    "* Split in for example decide from the population such that they are splitted `heterogenously`\n",
    "* Means the dividing sub-samples have different attributes from one another\n",
    "* Both each of the samples within the subset have `homoegenuous` properties\n",
    "* For each variable, see whether it is better"
   ]
  },
  {
   "cell_type": "code",
   "execution_count": 26,
   "metadata": {},
   "outputs": [
    {
     "data": {
      "image/svg+xml": "<?xml version=\"1.0\" encoding=\"UTF-8\" standalone=\"no\"?>\n<!DOCTYPE svg PUBLIC \"-//W3C//DTD SVG 1.1//EN\"\n \"http://www.w3.org/Graphics/SVG/1.1/DTD/svg11.dtd\">\n<!-- Generated by graphviz version 7.0.3 (20221126.0506)\n -->\n<!-- Title: Tree Pages: 1 -->\n<svg width=\"720pt\" height=\"434pt\"\n viewBox=\"0.00 0.00 720.00 434.49\" xmlns=\"http://www.w3.org/2000/svg\" xmlns:xlink=\"http://www.w3.org/1999/xlink\">\n<g id=\"graph0\" class=\"graph\" transform=\"scale(0.778659 0.778659) rotate(0) translate(4 554)\">\n<title>Tree</title>\n<polygon fill=\"white\" stroke=\"none\" points=\"-4,4 -4,-554 920.67,-554 920.67,4 -4,4\"/>\n<!-- 0 -->\n<g id=\"node1\" class=\"node\">\n<title>0</title>\n<polygon fill=\"#eca470\" stroke=\"black\" points=\"172.67,-336.5 14.67,-336.5 14.67,-268.5 172.67,-268.5 172.67,-336.5\"/>\n<text text-anchor=\"start\" x=\"22.67\" y=\"-321.3\" font-family=\"Helvetica,sans-Serif\" font-size=\"14.00\">Coupler_System ≤ 0.5</text>\n<text text-anchor=\"start\" x=\"26.17\" y=\"-306.3\" font-family=\"Helvetica,sans-Serif\" font-size=\"14.00\">squared_error = 0.46</text>\n<text text-anchor=\"start\" x=\"37.67\" y=\"-291.3\" font-family=\"Helvetica,sans-Serif\" font-size=\"14.00\">samples = 20000</text>\n<text text-anchor=\"start\" x=\"46.67\" y=\"-276.3\" font-family=\"Helvetica,sans-Serif\" font-size=\"14.00\">value = 10.115</text>\n</g>\n<!-- 1 -->\n<g id=\"node2\" class=\"node\">\n<title>1</title>\n<polygon fill=\"#eb9c64\" stroke=\"black\" points=\"397.17,-372.5 254.17,-372.5 254.17,-304.5 397.17,-304.5 397.17,-372.5\"/>\n<text text-anchor=\"start\" x=\"263.17\" y=\"-357.3\" font-family=\"Helvetica,sans-Serif\" font-size=\"14.00\">YearMade ≤ 1987.5</text>\n<text text-anchor=\"start\" x=\"262.17\" y=\"-342.3\" font-family=\"Helvetica,sans-Serif\" font-size=\"14.00\">squared_error = 0.4</text>\n<text text-anchor=\"start\" x=\"269.67\" y=\"-327.3\" font-family=\"Helvetica,sans-Serif\" font-size=\"14.00\">samples = 18252</text>\n<text text-anchor=\"start\" x=\"278.67\" y=\"-312.3\" font-family=\"Helvetica,sans-Serif\" font-size=\"14.00\">value = 10.205</text>\n</g>\n<!-- 0&#45;&gt;1 -->\n<g id=\"edge1\" class=\"edge\">\n<title>0&#45;&gt;1</title>\n<path fill=\"none\" stroke=\"black\" d=\"M172.86,-314.74C195.36,-318.26 219.97,-322.11 242.69,-325.67\"/>\n<polygon fill=\"black\" stroke=\"black\" points=\"242.11,-329.12 252.54,-327.21 243.2,-322.21 242.11,-329.12\"/>\n<text text-anchor=\"middle\" x=\"233.83\" y=\"-338.48\" font-family=\"Helvetica,sans-Serif\" font-size=\"14.00\">True</text>\n</g>\n<!-- 8 -->\n<g id=\"node9\" class=\"node\">\n<title>8</title>\n<polygon fill=\"#fcf0e7\" stroke=\"black\" points=\"405.17,-245.5 246.17,-245.5 246.17,-177.5 405.17,-177.5 405.17,-245.5\"/>\n<text text-anchor=\"start\" x=\"263.17\" y=\"-230.3\" font-family=\"Helvetica,sans-Serif\" font-size=\"14.00\">YearMade ≤ 1998.5</text>\n<text text-anchor=\"start\" x=\"254.17\" y=\"-215.3\" font-family=\"Helvetica,sans-Serif\" font-size=\"14.00\">squared_error = 0.116</text>\n<text text-anchor=\"start\" x=\"274.17\" y=\"-200.3\" font-family=\"Helvetica,sans-Serif\" font-size=\"14.00\">samples = 1748</text>\n<text text-anchor=\"start\" x=\"282.67\" y=\"-185.3\" font-family=\"Helvetica,sans-Serif\" font-size=\"14.00\">value = 9.176</text>\n</g>\n<!-- 0&#45;&gt;8 -->\n<g id=\"edge8\" class=\"edge\">\n<title>0&#45;&gt;8</title>\n<path fill=\"none\" stroke=\"black\" d=\"M172.86,-271.56C192.93,-263.62 214.67,-255.02 235.26,-246.87\"/>\n<polygon fill=\"black\" stroke=\"black\" points=\"236.49,-250.15 244.51,-243.22 233.92,-243.64 236.49,-250.15\"/>\n<text text-anchor=\"middle\" x=\"222.97\" y=\"-229.02\" font-family=\"Helvetica,sans-Serif\" font-size=\"14.00\">False</text>\n</g>\n<!-- 2 -->\n<g id=\"node3\" class=\"node\">\n<title>2</title>\n<polygon fill=\"#f0b489\" stroke=\"black\" points=\"653.17,-486.5 494.17,-486.5 494.17,-418.5 653.17,-418.5 653.17,-486.5\"/>\n<text text-anchor=\"start\" x=\"516.17\" y=\"-471.3\" font-family=\"Helvetica,sans-Serif\" font-size=\"14.00\">ModelID ≤ 4506.5</text>\n<text text-anchor=\"start\" x=\"502.17\" y=\"-456.3\" font-family=\"Helvetica,sans-Serif\" font-size=\"14.00\">squared_error = 0.341</text>\n<text text-anchor=\"start\" x=\"522.17\" y=\"-441.3\" font-family=\"Helvetica,sans-Serif\" font-size=\"14.00\">samples = 6913</text>\n<text text-anchor=\"start\" x=\"530.67\" y=\"-426.3\" font-family=\"Helvetica,sans-Serif\" font-size=\"14.00\">value = 9.914</text>\n</g>\n<!-- 1&#45;&gt;2 -->\n<g id=\"edge2\" class=\"edge\">\n<title>1&#45;&gt;2</title>\n<path fill=\"none\" stroke=\"black\" d=\"M397.49,-371.32C425.8,-384.44 458.65,-399.66 488.19,-413.35\"/>\n<polygon fill=\"black\" stroke=\"black\" points=\"486.57,-416.46 497.12,-417.49 489.52,-410.11 486.57,-416.46\"/>\n</g>\n<!-- 5 -->\n<g id=\"node6\" class=\"node\">\n<title>5</title>\n<polygon fill=\"#e88e4e\" stroke=\"black\" points=\"663.17,-372.5 484.17,-372.5 484.17,-304.5 663.17,-304.5 663.17,-372.5\"/>\n<text text-anchor=\"start\" x=\"492.17\" y=\"-357.3\" font-family=\"Helvetica,sans-Serif\" font-size=\"14.00\">fiProductClassDesc ≤ 7.5</text>\n<text text-anchor=\"start\" x=\"502.17\" y=\"-342.3\" font-family=\"Helvetica,sans-Serif\" font-size=\"14.00\">squared_error = 0.352</text>\n<text text-anchor=\"start\" x=\"517.67\" y=\"-327.3\" font-family=\"Helvetica,sans-Serif\" font-size=\"14.00\">samples = 11339</text>\n<text text-anchor=\"start\" x=\"526.67\" y=\"-312.3\" font-family=\"Helvetica,sans-Serif\" font-size=\"14.00\">value = 10.383</text>\n</g>\n<!-- 1&#45;&gt;5 -->\n<g id=\"edge5\" class=\"edge\">\n<title>1&#45;&gt;5</title>\n<path fill=\"none\" stroke=\"black\" d=\"M397.49,-338.5C420.88,-338.5 447.35,-338.5 472.51,-338.5\"/>\n<polygon fill=\"black\" stroke=\"black\" points=\"472.44,-342 482.44,-338.5 472.44,-335 472.44,-342\"/>\n</g>\n<!-- 3 -->\n<g id=\"node4\" class=\"node\">\n<title>3</title>\n<polygon fill=\"#eca36f\" stroke=\"black\" points=\"901.17,-550 742.17,-550 742.17,-497 901.17,-497 901.17,-550\"/>\n<text text-anchor=\"start\" x=\"750.17\" y=\"-534.8\" font-family=\"Helvetica,sans-Serif\" font-size=\"14.00\">squared_error = 0.371</text>\n<text text-anchor=\"start\" x=\"770.17\" y=\"-519.8\" font-family=\"Helvetica,sans-Serif\" font-size=\"14.00\">samples = 3421</text>\n<text text-anchor=\"start\" x=\"774.67\" y=\"-504.8\" font-family=\"Helvetica,sans-Serif\" font-size=\"14.00\">value = 10.121</text>\n</g>\n<!-- 2&#45;&gt;3 -->\n<g id=\"edge3\" class=\"edge\">\n<title>2&#45;&gt;3</title>\n<path fill=\"none\" stroke=\"black\" d=\"M653.52,-475.26C678.23,-482.39 705.69,-490.32 731.09,-497.65\"/>\n<polygon fill=\"black\" stroke=\"black\" points=\"729.81,-500.92 740.39,-500.33 731.75,-494.19 729.81,-500.92\"/>\n</g>\n<!-- 4 -->\n<g id=\"node5\" class=\"node\">\n<title>4</title>\n<polygon fill=\"#f3c5a3\" stroke=\"black\" points=\"901.17,-479 742.17,-479 742.17,-426 901.17,-426 901.17,-479\"/>\n<text text-anchor=\"start\" x=\"750.17\" y=\"-463.8\" font-family=\"Helvetica,sans-Serif\" font-size=\"14.00\">squared_error = 0.228</text>\n<text text-anchor=\"start\" x=\"770.17\" y=\"-448.8\" font-family=\"Helvetica,sans-Serif\" font-size=\"14.00\">samples = 3492</text>\n<text text-anchor=\"start\" x=\"782.67\" y=\"-433.8\" font-family=\"Helvetica,sans-Serif\" font-size=\"14.00\">value = 9.71</text>\n</g>\n<!-- 2&#45;&gt;4 -->\n<g id=\"edge4\" class=\"edge\">\n<title>2&#45;&gt;4</title>\n<path fill=\"none\" stroke=\"black\" d=\"M653.52,-452.5C678.01,-452.5 705.2,-452.5 730.41,-452.5\"/>\n<polygon fill=\"black\" stroke=\"black\" points=\"730.33,-456 740.33,-452.5 730.33,-449 730.33,-456\"/>\n</g>\n<!-- 6 -->\n<g id=\"node7\" class=\"node\">\n<title>6</title>\n<polygon fill=\"#eeae80\" stroke=\"black\" points=\"897.17,-408 746.17,-408 746.17,-355 897.17,-355 897.17,-408\"/>\n<text text-anchor=\"start\" x=\"754.17\" y=\"-392.8\" font-family=\"Helvetica,sans-Serif\" font-size=\"14.00\">squared_error = 0.12</text>\n<text text-anchor=\"start\" x=\"770.17\" y=\"-377.8\" font-family=\"Helvetica,sans-Serif\" font-size=\"14.00\">samples = 3276</text>\n<text text-anchor=\"start\" x=\"778.67\" y=\"-362.8\" font-family=\"Helvetica,sans-Serif\" font-size=\"14.00\">value = 9.986</text>\n</g>\n<!-- 5&#45;&gt;6 -->\n<g id=\"edge6\" class=\"edge\">\n<title>5&#45;&gt;6</title>\n<path fill=\"none\" stroke=\"black\" d=\"M663.48,-354.02C686.66,-358.08 711.6,-362.44 734.63,-366.46\"/>\n<polygon fill=\"black\" stroke=\"black\" points=\"733.83,-369.87 744.28,-368.15 735.03,-362.98 733.83,-369.87\"/>\n</g>\n<!-- 7 -->\n<g id=\"node8\" class=\"node\">\n<title>7</title>\n<polygon fill=\"#e58139\" stroke=\"black\" points=\"901.17,-337 742.17,-337 742.17,-284 901.17,-284 901.17,-337\"/>\n<text text-anchor=\"start\" x=\"750.17\" y=\"-321.8\" font-family=\"Helvetica,sans-Serif\" font-size=\"14.00\">squared_error = 0.357</text>\n<text text-anchor=\"start\" x=\"770.17\" y=\"-306.8\" font-family=\"Helvetica,sans-Serif\" font-size=\"14.00\">samples = 8063</text>\n<text text-anchor=\"start\" x=\"774.67\" y=\"-291.8\" font-family=\"Helvetica,sans-Serif\" font-size=\"14.00\">value = 10.545</text>\n</g>\n<!-- 5&#45;&gt;7 -->\n<g id=\"edge7\" class=\"edge\">\n<title>5&#45;&gt;7</title>\n<path fill=\"none\" stroke=\"black\" d=\"M663.48,-328.39C685.28,-325.91 708.63,-323.25 730.49,-320.76\"/>\n<polygon fill=\"black\" stroke=\"black\" points=\"730.73,-324.26 740.27,-319.65 729.94,-317.3 730.73,-324.26\"/>\n</g>\n<!-- 9 -->\n<g id=\"node10\" class=\"node\">\n<title>9</title>\n<polygon fill=\"#fefcfa\" stroke=\"black\" points=\"667.17,-245.5 480.17,-245.5 480.17,-177.5 667.17,-177.5 667.17,-245.5\"/>\n<text text-anchor=\"start\" x=\"488.17\" y=\"-230.3\" font-family=\"Helvetica,sans-Serif\" font-size=\"14.00\">fiProductClassDesc ≤ 40.5</text>\n<text text-anchor=\"start\" x=\"502.17\" y=\"-215.3\" font-family=\"Helvetica,sans-Serif\" font-size=\"14.00\">squared_error = 0.089</text>\n<text text-anchor=\"start\" x=\"526.17\" y=\"-200.3\" font-family=\"Helvetica,sans-Serif\" font-size=\"14.00\">samples = 981</text>\n<text text-anchor=\"start\" x=\"530.67\" y=\"-185.3\" font-family=\"Helvetica,sans-Serif\" font-size=\"14.00\">value = 9.029</text>\n</g>\n<!-- 8&#45;&gt;9 -->\n<g id=\"edge9\" class=\"edge\">\n<title>8&#45;&gt;9</title>\n<path fill=\"none\" stroke=\"black\" d=\"M405.52,-211.5C425.53,-211.5 447.34,-211.5 468.4,-211.5\"/>\n<polygon fill=\"black\" stroke=\"black\" points=\"468.16,-215 478.16,-211.5 468.16,-208 468.16,-215\"/>\n</g>\n<!-- 12 -->\n<g id=\"node13\" class=\"node\">\n<title>12</title>\n<polygon fill=\"#f9e1cf\" stroke=\"black\" points=\"653.17,-131.5 494.17,-131.5 494.17,-63.5 653.17,-63.5 653.17,-131.5\"/>\n<text text-anchor=\"start\" x=\"516.17\" y=\"-116.3\" font-family=\"Helvetica,sans-Serif\" font-size=\"14.00\">ModelID ≤ 7470.5</text>\n<text text-anchor=\"start\" x=\"502.17\" y=\"-101.3\" font-family=\"Helvetica,sans-Serif\" font-size=\"14.00\">squared_error = 0.087</text>\n<text text-anchor=\"start\" x=\"526.17\" y=\"-86.3\" font-family=\"Helvetica,sans-Serif\" font-size=\"14.00\">samples = 767</text>\n<text text-anchor=\"start\" x=\"530.67\" y=\"-71.3\" font-family=\"Helvetica,sans-Serif\" font-size=\"14.00\">value = 9.363</text>\n</g>\n<!-- 8&#45;&gt;12 -->\n<g id=\"edge12\" class=\"edge\">\n<title>8&#45;&gt;12</title>\n<path fill=\"none\" stroke=\"black\" d=\"M400.81,-177.14C428.28,-164.41 459.62,-149.89 487.96,-136.75\"/>\n<polygon fill=\"black\" stroke=\"black\" points=\"489.28,-140 496.88,-132.62 486.33,-133.65 489.28,-140\"/>\n</g>\n<!-- 10 -->\n<g id=\"node11\" class=\"node\">\n<title>10</title>\n<polygon fill=\"#ffffff\" stroke=\"black\" points=\"901.17,-266 742.17,-266 742.17,-213 901.17,-213 901.17,-266\"/>\n<text text-anchor=\"start\" x=\"750.17\" y=\"-250.8\" font-family=\"Helvetica,sans-Serif\" font-size=\"14.00\">squared_error = 0.071</text>\n<text text-anchor=\"start\" x=\"774.17\" y=\"-235.8\" font-family=\"Helvetica,sans-Serif\" font-size=\"14.00\">samples = 786</text>\n<text text-anchor=\"start\" x=\"778.67\" y=\"-220.8\" font-family=\"Helvetica,sans-Serif\" font-size=\"14.00\">value = 8.989</text>\n</g>\n<!-- 9&#45;&gt;10 -->\n<g id=\"edge10\" class=\"edge\">\n<title>9&#45;&gt;10</title>\n<path fill=\"none\" stroke=\"black\" d=\"M667.32,-222.05C688,-224.4 709.91,-226.89 730.49,-229.24\"/>\n<polygon fill=\"black\" stroke=\"black\" points=\"729.94,-232.7 740.27,-230.35 730.73,-225.74 729.94,-232.7\"/>\n</g>\n<!-- 11 -->\n<g id=\"node12\" class=\"node\">\n<title>11</title>\n<polygon fill=\"#fcefe5\" stroke=\"black\" points=\"901.17,-195 742.17,-195 742.17,-142 901.17,-142 901.17,-195\"/>\n<text text-anchor=\"start\" x=\"750.17\" y=\"-179.8\" font-family=\"Helvetica,sans-Serif\" font-size=\"14.00\">squared_error = 0.134</text>\n<text text-anchor=\"start\" x=\"774.17\" y=\"-164.8\" font-family=\"Helvetica,sans-Serif\" font-size=\"14.00\">samples = 195</text>\n<text text-anchor=\"start\" x=\"782.67\" y=\"-149.8\" font-family=\"Helvetica,sans-Serif\" font-size=\"14.00\">value = 9.19</text>\n</g>\n<!-- 9&#45;&gt;11 -->\n<g id=\"edge11\" class=\"edge\">\n<title>9&#45;&gt;11</title>\n<path fill=\"none\" stroke=\"black\" d=\"M667.32,-195.3C688,-191.69 709.91,-187.86 730.49,-184.26\"/>\n<polygon fill=\"black\" stroke=\"black\" points=\"731.04,-187.72 740.29,-182.55 729.83,-180.82 731.04,-187.72\"/>\n</g>\n<!-- 13 -->\n<g id=\"node14\" class=\"node\">\n<title>13</title>\n<polygon fill=\"#f7d7c1\" stroke=\"black\" points=\"901.17,-124 742.17,-124 742.17,-71 901.17,-71 901.17,-124\"/>\n<text text-anchor=\"start\" x=\"750.17\" y=\"-108.8\" font-family=\"Helvetica,sans-Serif\" font-size=\"14.00\">squared_error = 0.067</text>\n<text text-anchor=\"start\" x=\"774.17\" y=\"-93.8\" font-family=\"Helvetica,sans-Serif\" font-size=\"14.00\">samples = 365</text>\n<text text-anchor=\"start\" x=\"782.67\" y=\"-78.8\" font-family=\"Helvetica,sans-Serif\" font-size=\"14.00\">value = 9.48</text>\n</g>\n<!-- 12&#45;&gt;13 -->\n<g id=\"edge13\" class=\"edge\">\n<title>12&#45;&gt;13</title>\n<path fill=\"none\" stroke=\"black\" d=\"M653.52,-97.5C678.01,-97.5 705.2,-97.5 730.41,-97.5\"/>\n<polygon fill=\"black\" stroke=\"black\" points=\"730.33,-101 740.33,-97.5 730.33,-94 730.33,-101\"/>\n</g>\n<!-- 14 -->\n<g id=\"node15\" class=\"node\">\n<title>14</title>\n<polygon fill=\"#fbe9dd\" stroke=\"black\" points=\"901.17,-53 742.17,-53 742.17,0 901.17,0 901.17,-53\"/>\n<text text-anchor=\"start\" x=\"750.17\" y=\"-37.8\" font-family=\"Helvetica,sans-Serif\" font-size=\"14.00\">squared_error = 0.081</text>\n<text text-anchor=\"start\" x=\"774.17\" y=\"-22.8\" font-family=\"Helvetica,sans-Serif\" font-size=\"14.00\">samples = 402</text>\n<text text-anchor=\"start\" x=\"778.67\" y=\"-7.8\" font-family=\"Helvetica,sans-Serif\" font-size=\"14.00\">value = 9.257</text>\n</g>\n<!-- 12&#45;&gt;14 -->\n<g id=\"edge14\" class=\"edge\">\n<title>12&#45;&gt;14</title>\n<path fill=\"none\" stroke=\"black\" d=\"M653.52,-74.74C678.23,-67.61 705.69,-59.68 731.09,-52.35\"/>\n<polygon fill=\"black\" stroke=\"black\" points=\"731.75,-55.81 740.39,-49.67 729.81,-49.08 731.75,-55.81\"/>\n</g>\n</g>\n</svg>\n",
      "text/plain": [
       "<graphviz.sources.Source at 0x2afd4f60a08>"
      ]
     },
     "metadata": {},
     "output_type": "display_data"
    }
   ],
   "source": [
    "draw_tree(rfalg.estimators_[0], df_train, precision=3)"
   ]
  },
  {
   "cell_type": "code",
   "execution_count": 27,
   "metadata": {},
   "outputs": [
    {
     "ename": "NameError",
     "evalue": "name 'xxxxxx' is not defined",
     "output_type": "error",
     "traceback": [
      "\u001b[1;31m---------------------------------------------------------------------------\u001b[0m",
      "\u001b[1;31mNameError\u001b[0m                                 Traceback (most recent call last)",
      "\u001b[1;32m~\\AppData\\Local\\Temp\\ipykernel_6832\\1528481614.py\u001b[0m in \u001b[0;36m<module>\u001b[1;34m\u001b[0m\n\u001b[1;32m----> 1\u001b[1;33m \u001b[0mxxxxxx\u001b[0m\u001b[1;33m\u001b[0m\u001b[1;33m\u001b[0m\u001b[0m\n\u001b[0m",
      "\u001b[1;31mNameError\u001b[0m: name 'xxxxxx' is not defined"
     ]
    }
   ],
   "source": [
    "xxxxxx"
   ]
  },
  {
   "cell_type": "code",
   "execution_count": null,
   "metadata": {},
   "outputs": [],
   "source": []
  },
  {
   "cell_type": "code",
   "execution_count": null,
   "metadata": {},
   "outputs": [],
   "source": []
  },
  {
   "cell_type": "code",
   "execution_count": null,
   "metadata": {},
   "outputs": [],
   "source": []
  },
  {
   "cell_type": "code",
   "execution_count": null,
   "metadata": {},
   "outputs": [],
   "source": []
  },
  {
   "cell_type": "code",
   "execution_count": null,
   "metadata": {},
   "outputs": [],
   "source": []
  },
  {
   "cell_type": "code",
   "execution_count": null,
   "metadata": {},
   "outputs": [],
   "source": []
  }
 ],
 "metadata": {
  "kernelspec": {
   "display_name": "Python 3.7.15 ('airdmp')",
   "language": "python",
   "name": "python3"
  },
  "language_info": {
   "codemirror_mode": {
    "name": "ipython",
    "version": 3
   },
   "file_extension": ".py",
   "mimetype": "text/x-python",
   "name": "python",
   "nbconvert_exporter": "python",
   "pygments_lexer": "ipython3",
   "version": "3.7.15"
  },
  "vscode": {
   "interpreter": {
    "hash": "d07b0008baf96b10859126fdec4e07f87ea8cd98c5be91794f454136925afeea"
   }
  }
 },
 "nbformat": 4,
 "nbformat_minor": 2
}
